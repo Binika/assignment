{
 "cells": [
  {
   "cell_type": "code",
   "execution_count": 4,
   "metadata": {},
   "outputs": [
    {
     "name": "stdout",
     "output_type": "stream",
     "text": [
      "24\n",
      "10\n",
      "hellotestreduce\n"
     ]
    }
   ],
   "source": [
    "'''Write a Python Program to implement your own myreduce() function which works exactly like Python's \n",
    "built-in function reduce'''\n",
    "\n",
    "def myreduce(oprtn, lst):\n",
    "    if (oprtn == \"mul\"):\n",
    "        res = 1\n",
    "        for num in lst:\n",
    "            res = res * num\n",
    "    elif (oprtn == \"summation\"):\n",
    "        res = 0\n",
    "        for num in lst:\n",
    "            res = res + num\n",
    "    elif (oprtn == \"concat\"):\n",
    "        res = \"\"\n",
    "        for num in lst:\n",
    "            res = res + num\n",
    "    return res\n",
    "\n",
    "print(myreduce(\"mul\",[1,2,3,4]))\n",
    "print(myreduce(\"summation\",[1,2,3,4]))\n",
    "print(myreduce(\"concat\",[\"hello\",\"test\",\"reduce\"]))\n"
   ]
  },
  {
   "cell_type": "code",
   "execution_count": 10,
   "metadata": {},
   "outputs": [
    {
     "name": "stdout",
     "output_type": "stream",
     "text": [
      "[6, 44, 22]\n"
     ]
    }
   ],
   "source": [
    "'''Write a Python program to implement your own myfilter() function which works exactly like \n",
    "Python's built-in function filter()'''\n",
    "def even_check(num):\n",
    "    if num%2 ==0:\n",
    "        return True\n",
    "\n",
    "def myfilter(lst):\n",
    "    res=[]\n",
    "    for i in lst:\n",
    "        if (even_check(i)):\n",
    "            res.append(i)\n",
    "    return res\n",
    "            \n",
    "lst =[1,3,5,6,9,23,45,44,22]\n",
    "\n",
    "print(myfilter(lst))\n"
   ]
  },
  {
   "cell_type": "code",
   "execution_count": 40,
   "metadata": {},
   "outputs": [
    {
     "name": "stdout",
     "output_type": "stream",
     "text": [
      "result1: ['A', 'C', 'A', 'D', 'G', 'I', 'L', 'D']\n",
      "result2: [['x'], ['xx'], ['xxx'], ['y'], ['yy'], ['yyy'], ['z'], ['zz'], ['zzz']]\n",
      "result3: [['x'], ['y'], ['z'], ['xx'], ['yy'], ['zz'], ['xxx'], ['yyy'], ['zzz']]\n",
      "result4: [[2], [3], [4], [3], [4], [5], [4], [5], [6]]\n",
      "result5: [[2, 3, 4, 5], [3, 4, 5, 6], [4, 5, 6, 7], [5, 6, 7, 8]]\n",
      "result6:[(1, 1), (1, 2), (1, 3), (2, 1), (2, 2), (2, 3), (3, 1), (3, 2), (3, 3)]\n"
     ]
    }
   ],
   "source": [
    "'''Implement List comprehensions to produce the following lists.'''\n",
    "word = \"ACADGILD\"\n",
    "result = [ alphabet for alphabet in word ]\n",
    "print(\"result1: {0}\".format(result))\n",
    "\n",
    "\n",
    "input_list=['x','y','z']\n",
    "result=[[item*i] for item in input_list for i in range(1,4)]\n",
    "print(\"result2: {0}\".format(result))\n",
    "\n",
    "\n",
    "result=[[item*i] for i in range(1,4) for item in input_list]\n",
    "print(\"result3: {0}\".format(result))\n",
    "\n",
    "\n",
    "input_list = [2,3,4]\n",
    "result = [[item+num] for item in input_list for num in range(0,3)]\n",
    "print(\"result4: {0}\".format(result))\n",
    "\n",
    "\n",
    "input_list =[2,3,4,5]\n",
    "result = [[item+num for item in input_list] for num in range(0,4)]\n",
    "print(\"result5: {0}\".format(result))\n",
    "\n",
    "\n",
    "input_list=[1,2,3]\n",
    "result = [ (i,j) for i in input_list for j in input_list]\n",
    "print(\"result6:{0}\".format(result))"
   ]
  },
  {
   "cell_type": "code",
   "execution_count": 14,
   "metadata": {},
   "outputs": [
    {
     "name": "stdout",
     "output_type": "stream",
     "text": [
      "Enter the number of words: 6\n",
      "Enter the word: words\n",
      "Enter the word: list\n",
      "Enter the word: testing\n",
      "Enter the word: sample \n",
      "Enter the word: coding\n",
      "Enter the word: programming\n"
     ]
    },
    {
     "data": {
      "text/plain": [
       "'Longest word in the list is programming'"
      ]
     },
     "execution_count": 14,
     "metadata": {},
     "output_type": "execute_result"
    }
   ],
   "source": [
    "'''Implement a function longestWord() that takes a list of words and returns the longest one.'''\n",
    "\n",
    "def longestWord(lst):\n",
    "    strlen = 0\n",
    "    for i in lst:\n",
    "        if (len(i) > strlen):\n",
    "            strlen = len(i)\n",
    "            res = i\n",
    "    return (\"Longest word in the list is {0}\".format(res))\n",
    "\n",
    "num = int(input(\"Enter the number of words: \"))\n",
    "strlst = []\n",
    "for i in range(num):\n",
    "    wrd = input(\"Enter the word: \")\n",
    "    strlst.append(wrd)\n",
    "    \n",
    "longestWord(strlst)\n"
   ]
  },
  {
   "cell_type": "code",
   "execution_count": 46,
   "metadata": {},
   "outputs": [
    {
     "name": "stdout",
     "output_type": "stream",
     "text": [
      "Enter the length of side 1: 5\n",
      "Enter the length of side 2: 6\n",
      "Enter the length of side 3: 7\n",
      "Area of triangle is 14.696938456699069\n"
     ]
    }
   ],
   "source": [
    "'''Write a Python Program(with class concepts) to find the area of the triangle using the below formula. \n",
    "area = (s*(s-a)*(s-b)*(s-c)) ** 0.5'''\n",
    "\n",
    "\n",
    "class a:\n",
    "    def take_user_input(self):\n",
    "        self._sideA = int(input(\"Enter the length of side 1: \"))\n",
    "        self._sideB = int(input(\"Enter the length of side 2: \"))\n",
    "        self._sideC = int(input(\"Enter the length of side 3: \"))\n",
    "        \n",
    "\n",
    "class b (a):\n",
    "    def calculate_area(self):\n",
    "        s = (self._sideA + self._sideB + self._sideC) / 2\n",
    "        area = (s*(s-self._sideA)*(s-self._sideB)*(s-self._sideC)) ** 0.5\n",
    "        print(\"Area of triangle is {0}\".format(area))\n",
    "        \n",
    "obj = b()\n",
    "obj.take_user_input()\n",
    "obj.calculate_area()"
   ]
  },
  {
   "cell_type": "code",
   "execution_count": 48,
   "metadata": {},
   "outputs": [
    {
     "name": "stdout",
     "output_type": "stream",
     "text": [
      "Enter the number of words: 5\n",
      "Enter the word: nature\n",
      "Enter the word: condition\n",
      "Enter the word: color\n",
      "Enter the word: one\n",
      "Enter the word: customize\n",
      "Enter the limit 4\n"
     ]
    },
    {
     "data": {
      "text/plain": [
       "\"Words longer than 4 are ['nature', 'condition', 'color', 'customize']\""
      ]
     },
     "execution_count": 48,
     "metadata": {},
     "output_type": "execute_result"
    }
   ],
   "source": [
    "'''Write a function filter_long_words() that takes a list of words and an integer n and \n",
    "returns the list of words that are longer than n.'''\n",
    "\n",
    "def filter_long_words(lst,n):\n",
    "    res = []\n",
    "    for i in lst:\n",
    "        if (len(i) > n):\n",
    "            res.append(i)\n",
    "    return (\"Words longer than {} are {}\".format(n,res))\n",
    "\n",
    "num = int(input(\"Enter the number of words: \"))\n",
    "strlst = []\n",
    "for i in range(num):\n",
    "    wrd = input(\"Enter the word: \")\n",
    "    strlst.append(wrd)\n",
    "n = int(input(\"Enter the limit \"))\n",
    "    \n",
    "filter_long_words(strlst,n)"
   ]
  },
  {
   "cell_type": "code",
   "execution_count": 59,
   "metadata": {},
   "outputs": [
    {
     "name": "stdout",
     "output_type": "stream",
     "text": [
      "[8, 4, 5]\n"
     ]
    }
   ],
   "source": [
    "'''Write a Python program using function concept that maps list of words into a list \n",
    "of integers representing the lengths of the corresponding words.'''\n",
    "\n",
    "def map_to_lengths(words):\n",
    "    lengths = []\n",
    "    for i in words:\n",
    "        lengths.append(len(i))\n",
    "    return lengths\n",
    "\n",
    "\n",
    "words = ['function', 'list', 'words']\n",
    "list1 = map_to_lengths(words)\n",
    "print(list1)"
   ]
  },
  {
   "cell_type": "code",
   "execution_count": 62,
   "metadata": {},
   "outputs": [
    {
     "name": "stdout",
     "output_type": "stream",
     "text": [
      "Enter a character: I\n",
      "Entered character is vowel:True\n"
     ]
    }
   ],
   "source": [
    "'''Write a Python function which takes a character (i.e. a string of length 1) and returns True if it is a vowel, \n",
    "False otherwise.'''\n",
    "\n",
    "def check_vowel(char):\n",
    "    if(char=='A' or char=='a' or char=='E' or char=='e' or char=='i' or char=='I' or char=='o' or char=='O' or char=='u' or char=='U'):\n",
    "        return True\n",
    "    else:\n",
    "        return False\n",
    "\n",
    "char_input = input(\"Enter a character: \")\n",
    "print(\"Entered character is vowel:{}\".format(check_vowel(char_input)))"
   ]
  },
  {
   "cell_type": "code",
   "execution_count": null,
   "metadata": {},
   "outputs": [],
   "source": []
  }
 ],
 "metadata": {
  "kernelspec": {
   "display_name": "Python 3",
   "language": "python",
   "name": "python3"
  },
  "language_info": {
   "codemirror_mode": {
    "name": "ipython",
    "version": 3
   },
   "file_extension": ".py",
   "mimetype": "text/x-python",
   "name": "python",
   "nbconvert_exporter": "python",
   "pygments_lexer": "ipython3",
   "version": "3.7.4"
  }
 },
 "nbformat": 4,
 "nbformat_minor": 2
}
